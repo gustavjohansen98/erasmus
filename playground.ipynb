{
 "cells": [
  {
   "cell_type": "code",
   "execution_count": 1,
   "metadata": {},
   "outputs": [],
   "source": [
    "import pandas as pd\n",
    "from google.oauth2 import service_account\n",
    "from googleapiclient.discovery import build\n",
    "from googleapiclient.http import MediaIoBaseDownload\n",
    "from googleapiclient.http import MediaFileUpload\n",
    "import io\n",
    "from googleapiclient.errors import HttpError"
   ]
  },
  {
   "cell_type": "code",
   "execution_count": 2,
   "metadata": {},
   "outputs": [],
   "source": [
    "scope = ['https://www.googleapis.com/auth/drive']\n",
    "service_account_json_key = 'service-account.json'\n",
    "credentials = service_account.Credentials.from_service_account_file(\n",
    "                              filename=service_account_json_key, \n",
    "                              scopes=scope)\n",
    "service = build('drive', 'v3', credentials=credentials)"
   ]
  },
  {
   "cell_type": "code",
   "execution_count": 20,
   "metadata": {},
   "outputs": [],
   "source": [
    "# Call the Drive v3 API\n",
    "results = service.files().list(pageSize=1000, fields=\"nextPageToken, files(id, name, mimeType, size, modifiedTime)\").execute()\n",
    "\n",
    "# get the results\n",
    "items = results.get('files', [])"
   ]
  },
  {
   "cell_type": "code",
   "execution_count": 21,
   "metadata": {},
   "outputs": [
    {
     "name": "stdout",
     "output_type": "stream",
     "text": [
      "{'mimeType': 'application/vnd.google-apps.folder', 'id': '1Of0QfwO-oW6f15jkijPZP3a_xF847Nz3', 'name': 'EMOTIONS', 'modifiedTime': '2024-02-15T15:55:21.048Z'}\n",
      "{'mimeType': 'application/vnd.google-apps.folder', 'id': '1J1HnstWE7-ba3PbGk3OSI9WW9sXbCQbw', 'name': 'WP2', 'modifiedTime': '2024-02-15T15:53:44.102Z'}\n",
      "{'mimeType': 'application/vnd.google-apps.folder', 'id': '1Wv9fKH9R1FbyMU8m6kmKKBg6nDWW5h8A', 'name': 'WP1', 'modifiedTime': '2024-02-15T15:53:38.794Z'}\n",
      "{'mimeType': 'application/vnd.google-apps.folder', 'id': '1KvgskblrwU7JIW-BAprMTFTQ6Mb6KPiX', 'name': 'ERASMUS+', 'modifiedTime': '2024-02-15T15:52:01.831Z'}\n",
      "{'mimeType': 'application/vnd.google-apps.folder', 'id': '1zh-Z_cu61Cy80biJ2DibwToF1YhL5egW', 'name': 'TPM2', 'modifiedTime': '2024-02-15T15:51:27.900Z'}\n",
      "{'mimeType': 'application/vnd.google-apps.folder', 'id': '1CY0TUNTnqBSVhcUNsik_u6OASkY_IgfE', 'name': 'TPM1', 'modifiedTime': '2024-02-15T15:51:21.805Z'}\n"
     ]
    }
   ],
   "source": [
    "for file in items:\n",
    "    print(file)"
   ]
  },
  {
   "cell_type": "code",
   "execution_count": 12,
   "metadata": {},
   "outputs": [],
   "source": [
    "data = []\n",
    "for row in items:\n",
    "    if row[\"mimeType\"] != \"application/vnd.google-apps.folder\":\n",
    "        row_data = []\n",
    "        try:\n",
    "            row_data.append(round(int(row[\"size\"])/1000000, 2))\n",
    "        except KeyError:\n",
    "            row_data.append(0.00)\n",
    "        row_data.append(row[\"id\"])\n",
    "        row_data.append(row[\"name\"])\n",
    "        row_data.append(row[\"modifiedTime\"])\n",
    "        row_data.append(row[\"mimeType\"])\n",
    "        data.append(row_data)\n",
    "cleared_df = pd.DataFrame(data, columns = ['size_in_MB', 'id', 'name', 'last_modification', 'type_of_file'])"
   ]
  }
 ],
 "metadata": {
  "kernelspec": {
   "display_name": "venv",
   "language": "python",
   "name": "python3"
  },
  "language_info": {
   "codemirror_mode": {
    "name": "ipython",
    "version": 3
   },
   "file_extension": ".py",
   "mimetype": "text/x-python",
   "name": "python",
   "nbconvert_exporter": "python",
   "pygments_lexer": "ipython3",
   "version": "3.9.18"
  }
 },
 "nbformat": 4,
 "nbformat_minor": 2
}
