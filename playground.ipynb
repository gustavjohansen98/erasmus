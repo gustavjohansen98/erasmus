{
 "cells": [
  {
   "cell_type": "code",
   "execution_count": null,
   "metadata": {},
   "outputs": [],
   "source": [
    "import pandas as pd\n",
    "from google.oauth2 import service_account\n",
    "from googleapiclient.discovery import build\n",
    "from googleapiclient.http import MediaIoBaseDownload\n",
    "from googleapiclient.http import MediaFileUpload\n",
    "import io\n",
    "from googleapiclient.errors import HttpError"
   ]
  },
  {
   "cell_type": "code",
   "execution_count": null,
   "metadata": {},
   "outputs": [],
   "source": [
    "scope = ['https://www.googleapis.com/auth/drive']\n",
    "service_account_json_key = 'service-account.json'\n",
    "credentials = service_account.Credentials.from_service_account_file(\n",
    "                              filename=service_account_json_key, \n",
    "                              scopes=scope)\n",
    "service = build('drive', 'v3', credentials=credentials)"
   ]
  },
  {
   "cell_type": "code",
   "execution_count": null,
   "metadata": {},
   "outputs": [],
   "source": [
    "# Call the Drive v3 API\n",
    "results = service.files().list(pageSize=1000, fields=\"nextPageToken, files(id, name, mimeType, size, modifiedTime)\").execute()\n",
    "\n",
    "# get the results\n",
    "items = results.get('files', [])"
   ]
  },
  {
   "cell_type": "code",
   "execution_count": null,
   "metadata": {},
   "outputs": [],
   "source": [
    "for file in items:\n",
    "    print(file)"
   ]
  },
  {
   "cell_type": "code",
   "execution_count": null,
   "metadata": {},
   "outputs": [],
   "source": [
    "data = []\n",
    "for row in items:\n",
    "    if row[\"mimeType\"] != \"application/vnd.google-apps.folder\":\n",
    "        row_data = []\n",
    "        try:\n",
    "            row_data.append(round(int(row[\"size\"])/1000000, 2))\n",
    "        except KeyError:\n",
    "            row_data.append(0.00)\n",
    "        row_data.append(row[\"id\"])\n",
    "        row_data.append(row[\"name\"])\n",
    "        row_data.append(row[\"modifiedTime\"])\n",
    "        row_data.append(row[\"mimeType\"])\n",
    "        data.append(row_data)\n",
    "cleared_df = pd.DataFrame(data, columns = ['size_in_MB', 'id', 'name', 'last_modification', 'type_of_file'])"
   ]
  }
 ],
 "metadata": {
  "kernelspec": {
   "display_name": "venv",
   "language": "python",
   "name": "python3"
  },
  "language_info": {
   "codemirror_mode": {
    "name": "ipython",
    "version": 3
   },
   "file_extension": ".py",
   "mimetype": "text/x-python",
   "name": "python",
   "nbconvert_exporter": "python",
   "pygments_lexer": "ipython3",
   "version": "3.9.18"
  }
 },
 "nbformat": 4,
 "nbformat_minor": 2
}
